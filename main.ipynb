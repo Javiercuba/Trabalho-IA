{
 "cells": [
  {
   "cell_type": "markdown",
   "metadata": {},
   "source": [
    "## Trabalho de IA\n",
    "\n",
    "Este trabalho tem como objetivo mostrar como funciona o processamento de linguagem natural com a classificação de palavras e frases."
   ]
  },
  {
   "cell_type": "code",
   "execution_count": null,
   "metadata": {},
   "outputs": [],
   "source": [
    "import pandas as pd\n",
    "from sklearn.feature_extraction.text import TfidfTransformer\n",
    "from sklearn.feature_extraction.text import TfidfVectorizer\n",
    "from sklearn.feature_extraction.text import CountVectorizer\n",
    "from sklearn.naive_bayes import MultinomialNB\n",
    "from sklearn.pipeline import Pipeline\n",
    "\n",
    "f1 = \"Meu deus, essas mulheres deveriam estar na cozinha lavando a louça\"\n",
    "f2 = \"Você nem precisa reclamar, é mulher, está certo que você ganhe menos\"\n",
    "f3 = \"Essa mulher é incrível, tem uma capacidade de raciocínio muito rápido\"\n",
    "f4 = \"quando pensei que iam contratar uma mulher, logo fiquei feliz\"\n",
    "f5 = \"sou criado à moda antiga, mulher tem que cuidar do marido\"\n",
    "\n",
    "lista_palavras = [f1, f2, f3, f4, f5]\n",
    "classification = [\"Ruim\", \"Ruim\", \"Bom\", \"Bom\", \"Ruim\"]"
   ]
  },
  {
   "cell_type": "markdown",
   "metadata": {},
   "source": [
    "- **CountVectorizer** é amplamente utilizado em Processamento de Linguagem Natural (NLP), tanto no processo de construção de modelos quanto para a análise de texto via n-grams (também chamados de Q-grams ou shingles). Nós teremos como objetivo o modelo [Bag of Words](https://en.wikipedia.org/wiki/Bag-of-words_model)"
   ]
  },
  {
   "cell_type": "code",
   "execution_count": null,
   "metadata": {},
   "outputs": [],
   "source": [
    "contagem_total = CountVectorizer()"
   ]
  },
  {
   "cell_type": "code",
   "execution_count": null,
   "metadata": {},
   "outputs": [],
   "source": [
    "contagem_total.fit(lista_palavras)\n",
    "print(\"Vocabulario: \", contagem_total.vocabulary_)\n"
   ]
  },
  {
   "cell_type": "markdown",
   "metadata": {},
   "source": [
    "###### `Vamos verificar o nosso modelo, devemos ter 5 linhas (5 documentos) e 43 colunas (43 palavras únicas):`"
   ]
  },
  {
   "cell_type": "code",
   "execution_count": null,
   "metadata": {},
   "outputs": [],
   "source": [
    "X_train_counts = contagem_total.fit_transform(lista_palavras)\n",
    "X_train_counts.shape\n",
    "#print(X_train_counts.toarray())"
   ]
  },
  {
   "cell_type": "markdown",
   "metadata": {},
   "source": [
    "- #### Verificar a Frequencia do documento inversa (FDI)"
   ]
  },
  {
   "cell_type": "markdown",
   "metadata": {},
   "source": [
    "O número de vezes que um termo ocorre em um documento é chamado de *frequência do termo*\n",
    "[tf-idf](https://en.wikipedia.org/wiki/Tf%E2%80%93idf)"
   ]
  },
  {
   "cell_type": "code",
   "execution_count": null,
   "metadata": {},
   "outputs": [],
   "source": [
    "tfidf_transformer = TfidfTransformer()\n",
    "X_train_tfidf = tfidf_transformer.fit_transform(X_train_counts)\n",
    "\n",
    "# print idf values\n",
    "df_idf = pd.DataFrame(tfidf_transformer.idf_, index=contagem_total.get_feature_names_out(), columns=[\"idf_Peso\"])\n",
    "df_idf.sort_values(by=['idf_Peso'])\n"
   ]
  },
  {
   "cell_type": "markdown",
   "metadata": {},
   "source": [
    "- #### Criando um modelo de classificação Multinomial Naive Bayes\n",
    "\n",
    "*O modelo Multinomial Naive Bayes pode ser usado para classificação em quaisquer dados com recursos discretos, como nossas contagens de palavras do processo de vetorização de contagem. Normalmente, contagens inteiras, como as do vetorizador de contagem, são necessárias para obter bons resultados, mas o modelo pode funcionar bem com contagens fracionárias de outras técnicas de pré-processamento de texto, como TF-IDF (Term Frequency Inverse Document Frequency).*"
   ]
  },
  {
   "cell_type": "code",
   "execution_count": null,
   "metadata": {},
   "outputs": [],
   "source": [
    "\n",
    "clf = MultinomialNB().fit(X_train_tfidf, classification)"
   ]
  },
  {
   "cell_type": "markdown",
   "metadata": {},
   "source": [
    "O objetivo do pipeline é reunir várias etapas que podem ser validadas de forma cruzada enquanto definem diferentes parâmetros."
   ]
  },
  {
   "cell_type": "code",
   "execution_count": null,
   "metadata": {},
   "outputs": [],
   "source": [
    "text_clf = Pipeline([('vect', CountVectorizer()),('tfidf', TfidfTransformer()), ('clf', MultinomialNB())])\n",
    "text_clf = text_clf.fit(lista_palavras, classification)"
   ]
  },
  {
   "cell_type": "code",
   "execution_count": null,
   "metadata": {},
   "outputs": [],
   "source": [
    "resultado = text_clf.predict(['Meu deus, você precisa ficar em casa e cuidar do seu marido'])\n",
    "print(resultado)"
   ]
  },
  {
   "cell_type": "code",
   "execution_count": null,
   "metadata": {},
   "outputs": [],
   "source": [
    "resultado = text_clf.predict(['Contrataram uma mulher para o cargo'])\n",
    "print(resultado)"
   ]
  }
 ],
 "metadata": {
  "kernelspec": {
   "display_name": "Python 3.8.10 64-bit",
   "language": "python",
   "name": "python3"
  },
  "language_info": {
   "codemirror_mode": {
    "name": "ipython",
    "version": 3
   },
   "file_extension": ".py",
   "mimetype": "text/x-python",
   "name": "python",
   "nbconvert_exporter": "python",
   "pygments_lexer": "ipython3",
   "version": "3.8.10"
  },
  "orig_nbformat": 4,
  "vscode": {
   "interpreter": {
    "hash": "916dbcbb3f70747c44a77c7bcd40155683ae19c65e1c03b4aa3499c5328201f1"
   }
  }
 },
 "nbformat": 4,
 "nbformat_minor": 2
}
